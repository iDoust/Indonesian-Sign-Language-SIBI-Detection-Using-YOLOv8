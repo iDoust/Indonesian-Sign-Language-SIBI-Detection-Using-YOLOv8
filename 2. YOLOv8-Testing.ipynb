{
 "cells": [
  {
   "cell_type": "code",
   "execution_count": null,
   "metadata": {},
   "outputs": [
    {
     "data": {
      "application/vnd.jupyter.widget-view+json": {
       "model_id": "356c23e34fd0443c8dd2647c6e9e9144",
       "version_major": 2,
       "version_minor": 0
      },
      "text/plain": [
       "FileUpload(value=(), accept='image/*', description='Upload')"
      ]
     },
     "metadata": {},
     "output_type": "display_data"
    },
    {
     "data": {
      "application/vnd.jupyter.widget-view+json": {
       "model_id": "7b6bc81072994bfb8a70b628ef615459",
       "version_major": 2,
       "version_minor": 0
      },
      "text/plain": [
       "Output()"
      ]
     },
     "metadata": {},
     "output_type": "display_data"
    },
    {
     "name": "stdout",
     "output_type": "stream",
     "text": [
      "Loading C:\\Users\\ilham\\Documents\\SignLanguage\\YOLOv8-Codes\\Model\\best.onnx for ONNX Runtime inference...\n",
      "\n",
      "image 1/1 c:\\Users\\ilham\\Documents\\SignLanguage\\YOLOv8-Codes\\temp_image.jpg: 640x640 1 I, 64.7ms\n",
      "Speed: 6.6ms preprocess, 64.7ms inference, 3.0ms postprocess per image at shape (1, 3, 640, 640)\n",
      "Predicted class: I with confidence: 0.81\n"
     ]
    },
    {
     "name": "stdout",
     "output_type": "stream",
     "text": [
      "\n",
      "image 1/1 c:\\Users\\ilham\\Documents\\SignLanguage\\YOLOv8-Codes\\temp_image.jpg: 640x640 1 B, 106.8ms\n",
      "Speed: 7.0ms preprocess, 106.8ms inference, 2.0ms postprocess per image at shape (1, 3, 640, 640)\n",
      "Predicted class: B with confidence: 0.86\n"
     ]
    }
   ],
   "source": [
    "import cv2\n",
    "import numpy as np\n",
    "from ultralytics import YOLO\n",
    "import io\n",
    "from ipywidgets import FileUpload, Output\n",
    "from IPython.display import display\n",
    "from PIL import Image\n",
    "\n",
    "# Load your trained YOLO model with explicit task definition\n",
    "model = YOLO(r'C:\\Users\\ilham\\Documents\\SignLanguage\\YOLOv8-Codes\\Model\\best.onnx', task='detect')\n",
    "\n",
    "# Create output widget for displaying the image and results\n",
    "output = Output()\n",
    "\n",
    "# Function to perform prediction and display the result\n",
    "def predict_image(img):\n",
    "    # Convert PIL image to OpenCV format\n",
    "    img_cv = cv2.cvtColor(np.array(img), cv2.COLOR_RGB2BGR)\n",
    "    img_path = 'temp_image.jpg'\n",
    "    cv2.imwrite(img_path, img_cv)\n",
    "    \n",
    "    # Perform prediction\n",
    "    results = model.predict(source=img_path, save=False)\n",
    "\n",
    "    # Display results\n",
    "    if results:\n",
    "        for result in results:\n",
    "            boxes = result.boxes\n",
    "            for box in boxes:\n",
    "                x1, y1, x2, y2 = map(int, box.xyxy[0])\n",
    "                confidence = box.conf[0]\n",
    "                class_id = box.cls[0]\n",
    "                label = f'{model.names[int(class_id)]}: {confidence:.2f}'\n",
    "                img_cv = cv2.rectangle(img_cv, (x1, y1), (x2, y2), (255, 0, 0), 2)\n",
    "                img_cv = cv2.putText(img_cv, label, (x1, y1 - 10), cv2.FONT_HERSHEY_SIMPLEX, 0.9, (255, 0, 0), 2)\n",
    "\n",
    "                # Print the predicted class\n",
    "                print(f'Predicted class: {model.names[int(class_id)]} with confidence: {confidence:.2f}')\n",
    "\n",
    "    # Convert BGR to RGB for displaying with PIL\n",
    "    img_rgb = cv2.cvtColor(img_cv, cv2.COLOR_BGR2RGB)\n",
    "    img_pil = Image.fromarray(img_rgb)\n",
    "    \n",
    "    # Display image in notebook\n",
    "    with output:\n",
    "        output.clear_output(wait=True)\n",
    "        display(img_pil)\n",
    "\n",
    "# Function to handle image upload\n",
    "def on_upload_change(change):\n",
    "    for file_info in change['new']:\n",
    "        content = file_info['content']\n",
    "        img = Image.open(io.BytesIO(content))\n",
    "        predict_image(img)\n",
    "\n",
    "# Create upload button\n",
    "upload = FileUpload(accept='image/*', multiple=False)\n",
    "upload.observe(on_upload_change, names='value')\n",
    "\n",
    "# Display the upload button and output area in the notebook\n",
    "display(upload, output)"
   ]
  }
 ],
 "metadata": {
  "kernelspec": {
   "display_name": "Python 3",
   "language": "python",
   "name": "python3"
  },
  "language_info": {
   "codemirror_mode": {
    "name": "ipython",
    "version": 3
   },
   "file_extension": ".py",
   "mimetype": "text/x-python",
   "name": "python",
   "nbconvert_exporter": "python",
   "pygments_lexer": "ipython3",
   "version": "3.12.4"
  }
 },
 "nbformat": 4,
 "nbformat_minor": 2
}
