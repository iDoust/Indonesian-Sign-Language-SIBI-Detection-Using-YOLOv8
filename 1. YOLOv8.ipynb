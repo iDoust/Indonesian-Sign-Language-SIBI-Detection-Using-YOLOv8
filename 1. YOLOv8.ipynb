{
  "cells": [
    {
      "cell_type": "markdown",
      "metadata": {
        "id": "gYVw_cI1FP4R"
      },
      "source": [
        "### **Preparing**"
      ]
    },
    {
      "cell_type": "code",
      "execution_count": null,
      "metadata": {
        "collapsed": true,
        "id": "d50n5x2069O6"
      },
      "outputs": [],
      "source": [
        "# install library\n",
        "\n",
        "!pip install ultralytics --quiet\n",
        "!pip install roboflow --quiet"
      ]
    },
    {
      "cell_type": "code",
      "execution_count": null,
      "metadata": {
        "colab": {
          "base_uri": "https://localhost:8080/"
        },
        "id": "3dv4CslNFpvP",
        "outputId": "4f0c75f5-6386-46ee-db01-fe4a1fe1a70a"
      },
      "outputs": [],
      "source": [
        "# cek direktori saat ini\n",
        "\n",
        "import os\n",
        "HOME = os.getcwd()\n",
        "print(HOME)"
      ]
    },
    {
      "cell_type": "code",
      "execution_count": null,
      "metadata": {
        "colab": {
          "base_uri": "https://localhost:8080/"
        },
        "id": "2oqyJS79GcU5",
        "outputId": "aaf6744a-5c31-4dff-91f2-f63ab04d09a5"
      },
      "outputs": [],
      "source": [
        "# mengecek status Ultralytics pada perangkat\n",
        "\n",
        "from IPython import display\n",
        "display.clear_output()\n",
        "\n",
        "import ultralytics\n",
        "ultralytics.checks()"
      ]
    },
    {
      "cell_type": "code",
      "execution_count": null,
      "metadata": {
        "colab": {
          "base_uri": "https://localhost:8080/"
        },
        "id": "OLvpVB6IHtnC",
        "outputId": "89958947-6fcb-4551-9e15-ea4bfb8b7fd5"
      },
      "outputs": [],
      "source": [
        "!pip install roboflow\n",
        "\n",
        "from roboflow import Roboflow\n",
        "rf = Roboflow(api_key=\"KoKZnMIgPLGBnC1umdit\")\n",
        "project = rf.workspace(\"usibi-image-translate\").project(\"usibi-jueew\")\n",
        "version = project.version(2)\n",
        "dataset = version.download(\"yolov8\")"
      ]
    },
    {
      "cell_type": "markdown",
      "metadata": {
        "id": "zHyiU9ruI6eX"
      },
      "source": [
        "### **Training**"
      ]
    },
    {
      "cell_type": "code",
      "execution_count": null,
      "metadata": {
        "colab": {
          "background_save": true,
          "base_uri": "https://localhost:8080/"
        },
        "id": "wR9c1LP5Jegm",
        "outputId": "1ef5c6b3-079c-4977-d9e2-f498d1b5a368"
      },
      "outputs": [],
      "source": [
        "!yolo task=detect mode=train model=yolov8n.pt data={dataset.location}/data.yaml epochs=20 imgsz=640 plots=True optimizer=Adam"
      ]
    },
    {
      "cell_type": "markdown",
      "metadata": {
        "id": "JwcbZZfum3W_"
      },
      "source": [
        "### **Saved Model**\n"
      ]
    },
    {
      "cell_type": "code",
      "execution_count": null,
      "metadata": {
        "colab": {
          "base_uri": "https://localhost:8080/"
        },
        "id": "n4aQEvwwm2eB",
        "outputId": "52cbc0cc-f64a-467d-9f15-d3419adef689"
      },
      "outputs": [],
      "source": [
        "!yolo export model={HOME}/runs/detect/train/weights/best.pt format=onnx"
      ]
    },
    {
      "cell_type": "markdown",
      "metadata": {
        "id": "X_-ieOheRatE"
      },
      "source": [
        "### **Predict**"
      ]
    },
    {
      "cell_type": "code",
      "execution_count": null,
      "metadata": {
        "colab": {
          "base_uri": "https://localhost:8080/"
        },
        "id": "_pO5F8LrJhjK",
        "outputId": "9d8485ae-4c5c-48f5-a4c4-a99be108a3a2"
      },
      "outputs": [],
      "source": [
        "!yolo task=detect mode=predict model='/content/runs/detect/train/weights/best.pt' show=True conf=0.5 source='/content/USIBI-1/test/images'"
      ]
    },
    {
      "cell_type": "code",
      "execution_count": null,
      "metadata": {
        "colab": {
          "base_uri": "https://localhost:8080/",
          "height": 1000
        },
        "id": "x3VAKSQn6yf2",
        "outputId": "de5c4ce2-b0d4-4c0f-91b7-c87e83ae97ba"
      },
      "outputs": [],
      "source": [
        "import cv2\n",
        "import matplotlib.pyplot as plt\n",
        "from google.colab.patches import cv2_imshow\n",
        "from google.colab import files\n",
        "from ultralytics import YOLO\n",
        "\n",
        "model = YOLO('/content/runs/detect/train/weights/best.onnx')\n",
        "\n",
        "def upload_image():\n",
        "    uploaded = files.upload()\n",
        "    for file_name in uploaded.keys():\n",
        "        return file_name\n",
        "\n",
        "def predict_and_display(img_path):\n",
        "    img = cv2.imread(img_path)\n",
        "    results = model(img)\n",
        "\n",
        "    if results:\n",
        "        for result in results:\n",
        "            boxes = result.boxes\n",
        "            for box in boxes:\n",
        "                x1, y1, x2, y2 = map(int, box.xyxy[0])\n",
        "                confidence = box.conf[0]\n",
        "                class_id = box.cls[0]\n",
        "                label = f'{model.names[int(class_id)]}: {confidence:.2f}'\n",
        "                img = cv2.rectangle(img, (x1, y1), (x2, y2), (255, 0, 0), 2)\n",
        "                img = cv2.putText(img, label, (x1, y1 - 10), cv2.FONT_HERSHEY_SIMPLEX, 0.9, (255, 0, 0), 2)\n",
        "\n",
        "                print(f'Predicted class: {model.names[int(class_id)]} with confidence: {confidence:.2f}')\n",
        "    cv2_imshow(img)\n",
        "\n",
        "\n",
        "def main():\n",
        "    while True:\n",
        "        print(\"Upload an image to test the YOLO model.\")\n",
        "        img_path = upload_image()\n",
        "        if img_path:\n",
        "            predict_and_display(img_path)\n",
        "        else:\n",
        "            print(\"No image selected!\")\n",
        "        print(\"\\n\")\n",
        "\n",
        "if __name__ == \"__main__\":\n",
        "    main()"
      ]
    }
  ],
  "metadata": {
    "accelerator": "GPU",
    "colab": {
      "gpuType": "T4",
      "provenance": []
    },
    "kernelspec": {
      "display_name": "Python 3",
      "name": "python3"
    },
    "language_info": {
      "name": "python"
    }
  },
  "nbformat": 4,
  "nbformat_minor": 0
}
